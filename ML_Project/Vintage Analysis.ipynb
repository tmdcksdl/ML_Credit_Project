{
 "cells": [
  {
   "cell_type": "markdown",
   "id": "7d1fe5a7-faa9-44cc-90eb-23858ffd8374",
   "metadata": {},
   "source": [
    "# Vintage Analysis"
   ]
  },
  {
   "cell_type": "markdown",
   "id": "ae4fdd0c-e213-40c9-8f38-56c6a0e1de87",
   "metadata": {},
   "source": [
    "**Vintage Analysis는  신용 포트폴리오의 성능을 시간에 따라 추적하고 분석하는 방법입니다.**  \n",
    "**이 방법은 특정 연도나 기간에 대해 발행된 모든 대출이나 신용 카드를 대상으로 합니다.**  \n",
    "**그 후, 각 연도나 기간별로 이루어진 대출의 상환 성공률, 연체율, 불량 부채율 등을 측정하여 신용 포트폴리오의 전반적인 성능을 평가합니다.**"
   ]
  },
  {
   "cell_type": "code",
   "execution_count": 23,
   "id": "1373d8c2-bf7e-4b57-8456-978368fbe1d8",
   "metadata": {},
   "outputs": [],
   "source": [
    "import pandas as pd\n",
    "import matplotlib.pyplot as plt"
   ]
  },
  {
   "cell_type": "code",
   "execution_count": 24,
   "id": "4b70d528-d320-4d39-bb26-01a563953936",
   "metadata": {},
   "outputs": [],
   "source": [
    "# 예시 데이터 생성\n",
    "data = {\n",
    "    'loan_id': [1, 2, 3, 4, 5],\n",
    "    'issue_date': ['2020-01-01', '2020-01-01', '2020-02-01', '2020-02-01', '2020-03-01'],\n",
    "    'status': ['Paid', 'Late', 'Paid', 'Default', 'Paid']\n",
    "}\n",
    "\n",
    "df = pd.DataFrame(data)\n",
    "df['issue_date'] = pd.to_datetime(df['issue_date'])\n",
    "\n",
    "# Vintage year 계산\n",
    "df['vintage_year'] = df['issue_date'].dt.year"
   ]
  },
  {
   "cell_type": "code",
   "execution_count": 25,
   "id": "351d8f54-9ded-410a-b7fa-51580a0dd9ab",
   "metadata": {},
   "outputs": [
    {
     "data": {
      "text/html": [
       "<div>\n",
       "<style scoped>\n",
       "    .dataframe tbody tr th:only-of-type {\n",
       "        vertical-align: middle;\n",
       "    }\n",
       "\n",
       "    .dataframe tbody tr th {\n",
       "        vertical-align: top;\n",
       "    }\n",
       "\n",
       "    .dataframe thead th {\n",
       "        text-align: right;\n",
       "    }\n",
       "</style>\n",
       "<table border=\"1\" class=\"dataframe\">\n",
       "  <thead>\n",
       "    <tr style=\"text-align: right;\">\n",
       "      <th></th>\n",
       "      <th>loan_id</th>\n",
       "      <th>issue_date</th>\n",
       "      <th>status</th>\n",
       "      <th>vintage_year</th>\n",
       "    </tr>\n",
       "  </thead>\n",
       "  <tbody>\n",
       "    <tr>\n",
       "      <th>0</th>\n",
       "      <td>1</td>\n",
       "      <td>2020-01-01</td>\n",
       "      <td>Paid</td>\n",
       "      <td>2020</td>\n",
       "    </tr>\n",
       "    <tr>\n",
       "      <th>1</th>\n",
       "      <td>2</td>\n",
       "      <td>2020-01-01</td>\n",
       "      <td>Late</td>\n",
       "      <td>2020</td>\n",
       "    </tr>\n",
       "    <tr>\n",
       "      <th>2</th>\n",
       "      <td>3</td>\n",
       "      <td>2020-02-01</td>\n",
       "      <td>Paid</td>\n",
       "      <td>2020</td>\n",
       "    </tr>\n",
       "    <tr>\n",
       "      <th>3</th>\n",
       "      <td>4</td>\n",
       "      <td>2020-02-01</td>\n",
       "      <td>Default</td>\n",
       "      <td>2020</td>\n",
       "    </tr>\n",
       "    <tr>\n",
       "      <th>4</th>\n",
       "      <td>5</td>\n",
       "      <td>2020-03-01</td>\n",
       "      <td>Paid</td>\n",
       "      <td>2020</td>\n",
       "    </tr>\n",
       "  </tbody>\n",
       "</table>\n",
       "</div>"
      ],
      "text/plain": [
       "   loan_id issue_date   status  vintage_year\n",
       "0        1 2020-01-01     Paid          2020\n",
       "1        2 2020-01-01     Late          2020\n",
       "2        3 2020-02-01     Paid          2020\n",
       "3        4 2020-02-01  Default          2020\n",
       "4        5 2020-03-01     Paid          2020"
      ]
     },
     "execution_count": 25,
     "metadata": {},
     "output_type": "execute_result"
    }
   ],
   "source": [
    "df.head()"
   ]
  },
  {
   "cell_type": "markdown",
   "id": "e2f54232-34fc-4f32-83dc-975d90c3dfa1",
   "metadata": {},
   "source": [
    "### Vintage 별 상태 비율 계산"
   ]
  },
  {
   "cell_type": "markdown",
   "id": "3bac6b0a-9acc-484a-a68d-81e9d1a7eddb",
   "metadata": {},
   "source": [
    "**stack/unstack에 대한 설명**  \n",
    "https://seong6496.tistory.com/241"
   ]
  },
  {
   "cell_type": "code",
   "execution_count": 43,
   "id": "c6be6b86-bf7d-435f-9b6b-d6ca5de33bfc",
   "metadata": {},
   "outputs": [
    {
     "data": {
      "text/plain": [
       "vintage_year  status \n",
       "2020          Default    1\n",
       "              Late       1\n",
       "              Paid       3\n",
       "dtype: int64"
      ]
     },
     "execution_count": 43,
     "metadata": {},
     "output_type": "execute_result"
    }
   ],
   "source": [
    "test = df.groupby(['vintage_year', 'status']).size() # size():개체의 수를 반환\n",
    "test"
   ]
  },
  {
   "cell_type": "code",
   "execution_count": 44,
   "id": "1c6f6f19-4fab-4586-b54b-509efa03007c",
   "metadata": {},
   "outputs": [
    {
     "data": {
      "text/html": [
       "<div>\n",
       "<style scoped>\n",
       "    .dataframe tbody tr th:only-of-type {\n",
       "        vertical-align: middle;\n",
       "    }\n",
       "\n",
       "    .dataframe tbody tr th {\n",
       "        vertical-align: top;\n",
       "    }\n",
       "\n",
       "    .dataframe thead th {\n",
       "        text-align: right;\n",
       "    }\n",
       "</style>\n",
       "<table border=\"1\" class=\"dataframe\">\n",
       "  <thead>\n",
       "    <tr style=\"text-align: right;\">\n",
       "      <th>status</th>\n",
       "      <th>Default</th>\n",
       "      <th>Late</th>\n",
       "      <th>Paid</th>\n",
       "    </tr>\n",
       "    <tr>\n",
       "      <th>vintage_year</th>\n",
       "      <th></th>\n",
       "      <th></th>\n",
       "      <th></th>\n",
       "    </tr>\n",
       "  </thead>\n",
       "  <tbody>\n",
       "    <tr>\n",
       "      <th>2020</th>\n",
       "      <td>1</td>\n",
       "      <td>1</td>\n",
       "      <td>3</td>\n",
       "    </tr>\n",
       "  </tbody>\n",
       "</table>\n",
       "</div>"
      ],
      "text/plain": [
       "status        Default  Late  Paid\n",
       "vintage_year                     \n",
       "2020                1     1     3"
      ]
     },
     "execution_count": 44,
     "metadata": {},
     "output_type": "execute_result"
    }
   ],
   "source": [
    "test = df.groupby(['vintage_year', 'status']).size().unstack() # unstack(): 인덱스를 컬럼으로 보내는 역할 # stack: 컬럼을 인덱스로 보내는 역할\n",
    "test"
   ]
  },
  {
   "cell_type": "code",
   "execution_count": 26,
   "id": "6bc250ed-2435-4875-b3d6-fd81de07a618",
   "metadata": {},
   "outputs": [],
   "source": [
    "vintage_analysis = df.groupby(['vintage_year', 'status']).size().unstack(fill_value=0)"
   ]
  },
  {
   "cell_type": "code",
   "execution_count": 27,
   "id": "529c69ec-60c8-4629-bfa7-537a09c2ec72",
   "metadata": {},
   "outputs": [
    {
     "data": {
      "text/html": [
       "<div>\n",
       "<style scoped>\n",
       "    .dataframe tbody tr th:only-of-type {\n",
       "        vertical-align: middle;\n",
       "    }\n",
       "\n",
       "    .dataframe tbody tr th {\n",
       "        vertical-align: top;\n",
       "    }\n",
       "\n",
       "    .dataframe thead th {\n",
       "        text-align: right;\n",
       "    }\n",
       "</style>\n",
       "<table border=\"1\" class=\"dataframe\">\n",
       "  <thead>\n",
       "    <tr style=\"text-align: right;\">\n",
       "      <th>status</th>\n",
       "      <th>Default</th>\n",
       "      <th>Late</th>\n",
       "      <th>Paid</th>\n",
       "    </tr>\n",
       "    <tr>\n",
       "      <th>vintage_year</th>\n",
       "      <th></th>\n",
       "      <th></th>\n",
       "      <th></th>\n",
       "    </tr>\n",
       "  </thead>\n",
       "  <tbody>\n",
       "    <tr>\n",
       "      <th>2020</th>\n",
       "      <td>1</td>\n",
       "      <td>1</td>\n",
       "      <td>3</td>\n",
       "    </tr>\n",
       "  </tbody>\n",
       "</table>\n",
       "</div>"
      ],
      "text/plain": [
       "status        Default  Late  Paid\n",
       "vintage_year                     \n",
       "2020                1     1     3"
      ]
     },
     "execution_count": 27,
     "metadata": {},
     "output_type": "execute_result"
    }
   ],
   "source": [
    "vintage_analysis"
   ]
  },
  {
   "cell_type": "code",
   "execution_count": 28,
   "id": "b58f67e0-f94d-4828-915b-21fa4def976b",
   "metadata": {},
   "outputs": [],
   "source": [
    "vintage_analysis['Total'] = vintage_analysis.sum(axis=1)"
   ]
  },
  {
   "cell_type": "code",
   "execution_count": 29,
   "id": "9094d605-5329-4ce5-b252-1aa14f954458",
   "metadata": {},
   "outputs": [
    {
     "data": {
      "text/html": [
       "<div>\n",
       "<style scoped>\n",
       "    .dataframe tbody tr th:only-of-type {\n",
       "        vertical-align: middle;\n",
       "    }\n",
       "\n",
       "    .dataframe tbody tr th {\n",
       "        vertical-align: top;\n",
       "    }\n",
       "\n",
       "    .dataframe thead th {\n",
       "        text-align: right;\n",
       "    }\n",
       "</style>\n",
       "<table border=\"1\" class=\"dataframe\">\n",
       "  <thead>\n",
       "    <tr style=\"text-align: right;\">\n",
       "      <th>status</th>\n",
       "      <th>Default</th>\n",
       "      <th>Late</th>\n",
       "      <th>Paid</th>\n",
       "      <th>Total</th>\n",
       "    </tr>\n",
       "    <tr>\n",
       "      <th>vintage_year</th>\n",
       "      <th></th>\n",
       "      <th></th>\n",
       "      <th></th>\n",
       "      <th></th>\n",
       "    </tr>\n",
       "  </thead>\n",
       "  <tbody>\n",
       "    <tr>\n",
       "      <th>2020</th>\n",
       "      <td>1</td>\n",
       "      <td>1</td>\n",
       "      <td>3</td>\n",
       "      <td>5</td>\n",
       "    </tr>\n",
       "  </tbody>\n",
       "</table>\n",
       "</div>"
      ],
      "text/plain": [
       "status        Default  Late  Paid  Total\n",
       "vintage_year                            \n",
       "2020                1     1     3      5"
      ]
     },
     "execution_count": 29,
     "metadata": {},
     "output_type": "execute_result"
    }
   ],
   "source": [
    "vintage_analysis"
   ]
  },
  {
   "cell_type": "code",
   "execution_count": 30,
   "id": "a6cef006-bf5e-47a0-ae40-b85c4e0c6287",
   "metadata": {},
   "outputs": [],
   "source": [
    "vintage_analysis['Paid_Ratio'] = (vintage_analysis['Paid'] / vintage_analysis['Total']) * 100"
   ]
  },
  {
   "cell_type": "code",
   "execution_count": 31,
   "id": "96515220-e631-4c94-9eb1-1c2a5591c503",
   "metadata": {},
   "outputs": [
    {
     "data": {
      "text/html": [
       "<div>\n",
       "<style scoped>\n",
       "    .dataframe tbody tr th:only-of-type {\n",
       "        vertical-align: middle;\n",
       "    }\n",
       "\n",
       "    .dataframe tbody tr th {\n",
       "        vertical-align: top;\n",
       "    }\n",
       "\n",
       "    .dataframe thead th {\n",
       "        text-align: right;\n",
       "    }\n",
       "</style>\n",
       "<table border=\"1\" class=\"dataframe\">\n",
       "  <thead>\n",
       "    <tr style=\"text-align: right;\">\n",
       "      <th>status</th>\n",
       "      <th>Default</th>\n",
       "      <th>Late</th>\n",
       "      <th>Paid</th>\n",
       "      <th>Total</th>\n",
       "      <th>Paid_Ratio</th>\n",
       "    </tr>\n",
       "    <tr>\n",
       "      <th>vintage_year</th>\n",
       "      <th></th>\n",
       "      <th></th>\n",
       "      <th></th>\n",
       "      <th></th>\n",
       "      <th></th>\n",
       "    </tr>\n",
       "  </thead>\n",
       "  <tbody>\n",
       "    <tr>\n",
       "      <th>2020</th>\n",
       "      <td>1</td>\n",
       "      <td>1</td>\n",
       "      <td>3</td>\n",
       "      <td>5</td>\n",
       "      <td>60.0</td>\n",
       "    </tr>\n",
       "  </tbody>\n",
       "</table>\n",
       "</div>"
      ],
      "text/plain": [
       "status        Default  Late  Paid  Total  Paid_Ratio\n",
       "vintage_year                                        \n",
       "2020                1     1     3      5        60.0"
      ]
     },
     "execution_count": 31,
     "metadata": {},
     "output_type": "execute_result"
    }
   ],
   "source": [
    "vintage_analysis"
   ]
  },
  {
   "cell_type": "code",
   "execution_count": 32,
   "id": "ce9c983f-47d2-44ec-ac9e-702de8311a41",
   "metadata": {},
   "outputs": [],
   "source": [
    "vintage_analysis['Default_Ratio'] = (vintage_analysis['Default'] / vintage_analysis['Total']) * 100"
   ]
  },
  {
   "cell_type": "code",
   "execution_count": 33,
   "id": "b7724846-408b-4020-994b-e8036ad36b6c",
   "metadata": {},
   "outputs": [
    {
     "data": {
      "text/html": [
       "<div>\n",
       "<style scoped>\n",
       "    .dataframe tbody tr th:only-of-type {\n",
       "        vertical-align: middle;\n",
       "    }\n",
       "\n",
       "    .dataframe tbody tr th {\n",
       "        vertical-align: top;\n",
       "    }\n",
       "\n",
       "    .dataframe thead th {\n",
       "        text-align: right;\n",
       "    }\n",
       "</style>\n",
       "<table border=\"1\" class=\"dataframe\">\n",
       "  <thead>\n",
       "    <tr style=\"text-align: right;\">\n",
       "      <th>status</th>\n",
       "      <th>Default</th>\n",
       "      <th>Late</th>\n",
       "      <th>Paid</th>\n",
       "      <th>Total</th>\n",
       "      <th>Paid_Ratio</th>\n",
       "      <th>Default_Ratio</th>\n",
       "    </tr>\n",
       "    <tr>\n",
       "      <th>vintage_year</th>\n",
       "      <th></th>\n",
       "      <th></th>\n",
       "      <th></th>\n",
       "      <th></th>\n",
       "      <th></th>\n",
       "      <th></th>\n",
       "    </tr>\n",
       "  </thead>\n",
       "  <tbody>\n",
       "    <tr>\n",
       "      <th>2020</th>\n",
       "      <td>1</td>\n",
       "      <td>1</td>\n",
       "      <td>3</td>\n",
       "      <td>5</td>\n",
       "      <td>60.0</td>\n",
       "      <td>20.0</td>\n",
       "    </tr>\n",
       "  </tbody>\n",
       "</table>\n",
       "</div>"
      ],
      "text/plain": [
       "status        Default  Late  Paid  Total  Paid_Ratio  Default_Ratio\n",
       "vintage_year                                                       \n",
       "2020                1     1     3      5        60.0           20.0"
      ]
     },
     "execution_count": 33,
     "metadata": {},
     "output_type": "execute_result"
    }
   ],
   "source": [
    "vintage_analysis"
   ]
  },
  {
   "cell_type": "code",
   "execution_count": 34,
   "id": "b355bd22-b81b-44b3-8f02-b719b095cecc",
   "metadata": {},
   "outputs": [
    {
     "name": "stdout",
     "output_type": "stream",
     "text": [
      "status        Default  Late  Paid  Total  Paid_Ratio  Default_Ratio\n",
      "vintage_year                                                       \n",
      "2020                1     1     3      5        60.0           20.0\n"
     ]
    }
   ],
   "source": [
    "# 결과 출력\n",
    "print(vintage_analysis)"
   ]
  },
  {
   "cell_type": "code",
   "execution_count": 35,
   "id": "bafc1e15-4204-43e7-80d8-6c4e4790a008",
   "metadata": {},
   "outputs": [
    {
     "data": {
      "image/png": "[encoded data removed]",
      "text/plain": [
       "<Figure size 640x480 with 1 Axes>"
      ]
     },
     "metadata": {},
     "output_type": "display_data"
    }
   ],
   "source": [
    "# Vintage 별 상태 비율 시각화\n",
    "vintage_analysis[['Paid_Ratio', 'Default_Ratio']].plot(kind='bar', stacked=True)\n",
    "plt.title('Vintage Analysis')\n",
    "plt.xlabel('Vintage Year')\n",
    "plt.ylabel('Percentage (%)')\n",
    "plt.show()"
   ]
  },
  {
   "cell_type": "code",
   "execution_count": null,
   "id": "c3d31da6-45b6-46cf-bf74-420b0c11d2f0",
   "metadata": {},
   "outputs": [],
   "source": []
  }
 ],
 "metadata": {
  "kernelspec": {
   "display_name": "Python 3 (ipykernel)",
   "language": "python",
   "name": "python3"
  },
  "language_info": {
   "codemirror_mode": {
    "name": "ipython",
    "version": 3
   },
   "file_extension": ".py",
   "mimetype": "text/x-python",
   "name": "python",
   "nbconvert_exporter": "python",
   "pygments_lexer": "ipython3",
   "version": "3.8.18"
  }
 },
 "nbformat": 4,
 "nbformat_minor": 5
}
